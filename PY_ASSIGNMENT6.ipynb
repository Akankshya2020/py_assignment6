{
 "cells": [
  {
   "cell_type": "markdown",
   "id": "028ed54f",
   "metadata": {},
   "source": [
    "# Write a Python program to sum all the items in a list. "
   ]
  },
  {
   "cell_type": "code",
   "execution_count": 9,
   "id": "6eb3b382",
   "metadata": {},
   "outputs": [
    {
     "name": "stdout",
     "output_type": "stream",
     "text": [
      "16\n"
     ]
    }
   ],
   "source": [
    "def sum_list (list):\n",
    "    sum=0\n",
    "    for i in list:\n",
    "        sum+=i\n",
    "    return sum\n",
    "print(sum_list([9,4,3]))\n",
    "    "
   ]
  },
  {
   "cell_type": "markdown",
   "id": "9ef3b373",
   "metadata": {},
   "source": [
    "#  Write a Python program to count the number of strings where the string length is 2 or more and the first and last character are same from a given list of strings.\n"
   ]
  },
  {
   "cell_type": "code",
   "execution_count": 36,
   "id": "0fd04d53",
   "metadata": {},
   "outputs": [
    {
     "name": "stdout",
     "output_type": "stream",
     "text": [
      "4\n"
     ]
    }
   ],
   "source": [
    "def count_string(words):\n",
    "                total_string=0\n",
    "                for word in words:\n",
    "                  if len(word)>1 and word[0]==word[-1]:\n",
    "                    total_string+=1\n",
    "                return total_string\n",
    "c=['a', 'xyz', 'aba', '1221','bhgsskknb','aa']       \n",
    "print(count_string(c))      \n",
    "    "
   ]
  },
  {
   "cell_type": "markdown",
   "id": "fe0ccbf1",
   "metadata": {},
   "source": [
    "# Write a Python program to remove duplicates from a list.\n"
   ]
  },
  {
   "cell_type": "code",
   "execution_count": 40,
   "id": "a051d4bf",
   "metadata": {},
   "outputs": [
    {
     "data": {
      "text/plain": [
       "[2, 4, 5, 6, 10]"
      ]
     },
     "execution_count": 40,
     "metadata": {},
     "output_type": "execute_result"
    }
   ],
   "source": [
    "def remove_duplicates(list):\n",
    "    final_list=[]\n",
    "    for i in list:\n",
    "        if i not in final_list:\n",
    "            final_list.append(i)\n",
    "    return final_list\n",
    "a=[2,4,5,6,2,4,10]\n",
    "remove_duplicates(a)"
   ]
  },
  {
   "cell_type": "code",
   "execution_count": null,
   "id": "955b38f2",
   "metadata": {},
   "outputs": [],
   "source": []
  }
 ],
 "metadata": {
  "kernelspec": {
   "display_name": "Python 3 (ipykernel)",
   "language": "python",
   "name": "python3"
  },
  "language_info": {
   "codemirror_mode": {
    "name": "ipython",
    "version": 3
   },
   "file_extension": ".py",
   "mimetype": "text/x-python",
   "name": "python",
   "nbconvert_exporter": "python",
   "pygments_lexer": "ipython3",
   "version": "3.9.7"
  }
 },
 "nbformat": 4,
 "nbformat_minor": 5
}
